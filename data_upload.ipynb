{
 "cells": [
  {
   "cell_type": "code",
   "execution_count": 1,
   "metadata": {},
   "outputs": [],
   "source": [
    "import requests\n",
    "import mysql.connector\n",
    "from mysql.connector import Error\n",
    "\n",
    "import mysql_creds"
   ]
  },
  {
   "cell_type": "code",
   "execution_count": 2,
   "metadata": {},
   "outputs": [
    {
     "data": {
      "text/plain": [
       "'localhost'"
      ]
     },
     "execution_count": 2,
     "metadata": {},
     "output_type": "execute_result"
    }
   ],
   "source": [
    "mysql_creds.host"
   ]
  },
  {
   "cell_type": "code",
   "execution_count": 3,
   "metadata": {},
   "outputs": [],
   "source": [
    "# Set up the API call variables\n",
    "game_data = []\n",
    "year = '2021'\n",
    "season_type = '02' \n",
    "max_game_ID = 1290"
   ]
  },
  {
   "cell_type": "markdown",
   "metadata": {},
   "source": [
    "## Drop existing tables"
   ]
  },
  {
   "cell_type": "code",
   "execution_count": 4,
   "metadata": {},
   "outputs": [
    {
     "name": "stdout",
     "output_type": "stream",
     "text": [
      "existing tables dropped successfully \n"
     ]
    }
   ],
   "source": [
    "try:\n",
    "    connection = mysql.connector.connect(host=mysql_creds.host,\n",
    "                                         database=mysql_creds.database,\n",
    "                                         user=mysql_creds.user,\n",
    "                                         password=mysql_creds.password)\n",
    "    \n",
    "    \n",
    "    mySql_drop_Query = \"\"\"DROP TABLE IF EXISTS team ;\\\n",
    "    DROP TABLE IF EXISTS division;\\\n",
    "    DROP TABLE IF EXISTS conference;\"\"\"\n",
    "    \n",
    "    \n",
    "    cursor = connection.cursor()\n",
    "    result = cursor.execute(mySql_drop_Query)\n",
    "    print(\"existing tables dropped successfully \")\n",
    "\n",
    "except Error as e:\n",
    "    print(\"Error while connecting to MySQL\", e)\n",
    "finally:\n",
    "    if connection.is_connected():\n",
    "        cursor.close()\n",
    "        connection.close()\n",
    "        print(\"MySQL connection is closed\")"
   ]
  },
  {
   "cell_type": "code",
   "execution_count": null,
   "metadata": {},
   "outputs": [],
   "source": []
  },
  {
   "cell_type": "markdown",
   "metadata": {},
   "source": [
    "### Conference and Division data"
   ]
  },
  {
   "cell_type": "markdown",
   "metadata": {},
   "source": [
    "#### Create the conference table and add all of the tables"
   ]
  },
  {
   "cell_type": "code",
   "execution_count": 5,
   "metadata": {},
   "outputs": [],
   "source": [
    "conf_info = requests.get(url='https://statsapi.web.nhl.com/api/v1/conferences')\n",
    "conf_info = conf_info.json()\n",
    "conf_info = conf_info['conferences']"
   ]
  },
  {
   "cell_type": "code",
   "execution_count": 6,
   "metadata": {},
   "outputs": [
    {
     "name": "stdout",
     "output_type": "stream",
     "text": [
      "conference table created successfully \n",
      "MySQL connection is closed\n"
     ]
    }
   ],
   "source": [
    "try:\n",
    "    connection = mysql.connector.connect(host=mysql_creds.host,\n",
    "                                         database=mysql_creds.database,\n",
    "                                         user=mysql_creds.user,\n",
    "                                         password=mysql_creds.password)\n",
    "    \n",
    "    \n",
    "    mySql_Create_Table_Query = \"\"\"CREATE TABLE conference(Id int NOT NULL,\\\n",
    "    name varchar(20) NOT NULL,\\\n",
    "    abbreviation varchar(5) NOT NULL,\\\n",
    "    nameShort varchar(10) NOT NULL,\\\n",
    "    PRIMARY KEY (Id))\"\"\"\n",
    "    \n",
    "    \n",
    "    cursor = connection.cursor()\n",
    "    result = cursor.execute(mySql_Create_Table_Query)\n",
    "    print(\"conference table created successfully \")\n",
    "\n",
    "except Error as e:\n",
    "    print(\"Error while connecting to MySQL\", e)\n",
    "finally:\n",
    "    if connection.is_connected():\n",
    "        cursor.close()\n",
    "        connection.close()\n",
    "        print(\"MySQL connection is closed\")"
   ]
  },
  {
   "cell_type": "code",
   "execution_count": 7,
   "metadata": {},
   "outputs": [
    {
     "name": "stdout",
     "output_type": "stream",
     "text": [
      "Eastern, inserted successfully into conference table\n",
      "Western, inserted successfully into conference table\n"
     ]
    }
   ],
   "source": [
    "def create_conference_insert_statement(conf_stats):\n",
    "    \n",
    "    conf_id = conf_stats['id']\n",
    "    conf_fullname = conf_stats['name']\n",
    "    conf_abbr = conf_stats['abbreviation']\n",
    "    conf_nameShort = conf_stats['shortName']\n",
    "    \n",
    "    insert_statement = \"\"\"INSERT INTO conference(Id, name, abbreviation, nameShort)\\\n",
    "    VALUES ({}, '{}', '{}',  '{}')\"\"\"\\\n",
    "    .format(conf_id, conf_fullname, conf_abbr, conf_nameShort)\n",
    "    \n",
    "    return insert_statement\n",
    "    \n",
    "for conference in conf_info:\n",
    "        \n",
    "    try:\n",
    "        connection = mysql.connector.connect(host=mysql_creds.host,\n",
    "                                         database=mysql_creds.database,\n",
    "                                         user=mysql_creds.user,\n",
    "                                         password=mysql_creds.password)\n",
    "        \n",
    "        mySql_insert_query = create_conference_insert_statement(conference)\n",
    "\n",
    "        cursor = connection.cursor()\n",
    "        cursor.execute(mySql_insert_query)\n",
    "        connection.commit()\n",
    "        print(\"{}, inserted successfully into conference table\".format(conference['name']))\n",
    "        cursor.close()\n",
    "\n",
    "    except mysql.connector.Error as error:\n",
    "        print(\"Failed to insert record into Laptop table {}\".format(error))\n",
    "\n",
    "    finally:\n",
    "        if connection.is_connected():\n",
    "            connection.close()\n",
    "#             print(\"MySQL connection is closed\")\n",
    "\n"
   ]
  },
  {
   "cell_type": "markdown",
   "metadata": {},
   "source": [
    "#### Division"
   ]
  },
  {
   "cell_type": "code",
   "execution_count": 8,
   "metadata": {},
   "outputs": [],
   "source": [
    "div_info = requests.get(url='https://statsapi.web.nhl.com/api/v1/divisions')\n",
    "div_info = div_info.json()\n",
    "div_info = div_info['divisions']"
   ]
  },
  {
   "cell_type": "code",
   "execution_count": 9,
   "metadata": {},
   "outputs": [
    {
     "name": "stdout",
     "output_type": "stream",
     "text": [
      "division Table created successfully \n",
      "MySQL connection is closed\n"
     ]
    }
   ],
   "source": [
    "try:\n",
    "    connection = mysql.connector.connect(host=mysql_creds.host,\n",
    "                                         database=mysql_creds.database,\n",
    "                                         user=mysql_creds.user,\n",
    "                                         password=mysql_creds.password)\n",
    "    \n",
    "    \n",
    "    mySql_Create_Table_Query = \"\"\"CREATE TABLE division(Id int NOT NULL,\\\n",
    "    name varchar(20) NOT NULL,\\\n",
    "    nameShort varchar(5) NOT NULL,\\\n",
    "    abbreviation varchar(5) NOT NULL,\\\n",
    "    conference int NOT NULL,\\\n",
    "    PRIMARY KEY (Id),\\\n",
    "    FOREIGN KEY (conference) REFERENCES conference(Id))\"\"\"\n",
    "    \n",
    "    \n",
    "    cursor = connection.cursor()\n",
    "    result = cursor.execute(mySql_Create_Table_Query)\n",
    "    print(\"division Table created successfully \")\n",
    "\n",
    "except Error as e:\n",
    "    print(\"Error while connecting to MySQL\", e)\n",
    "finally:\n",
    "    if connection.is_connected():\n",
    "        cursor.close()\n",
    "        connection.close()\n",
    "        print(\"MySQL connection is closed\")"
   ]
  },
  {
   "cell_type": "code",
   "execution_count": 10,
   "metadata": {},
   "outputs": [
    {
     "name": "stdout",
     "output_type": "stream",
     "text": [
      "Atlantic, inserted successfully into division table\n",
      "Central, inserted successfully into division table\n",
      "Metropolitan, inserted successfully into division table\n",
      "Pacific, inserted successfully into division table\n"
     ]
    }
   ],
   "source": [
    "def create_division_insert_statement(div_info):\n",
    "    \n",
    "    div_id = div_info['id']\n",
    "    div_fullname = div_info['name']\n",
    "    div_abbr = div_info['abbreviation']\n",
    "    div_nameShort = div_info['nameShort']\n",
    "    div_conf = div_info['conference']['id']\n",
    "    \n",
    "    insert_statement = \"\"\"INSERT INTO division(Id, name, abbreviation, nameShort, conference)\\\n",
    "    VALUES ({}, '{}', '{}',  '{}', {})\"\"\"\\\n",
    "    .format(div_id, div_fullname, div_abbr, div_nameShort, div_conf)\n",
    "    \n",
    "    return insert_statement\n",
    "    \n",
    "for division in div_info:\n",
    "        \n",
    "    try:\n",
    "        connection = mysql.connector.connect(host=mysql_creds.host,\n",
    "                                         database=mysql_creds.database,\n",
    "                                         user=mysql_creds.user,\n",
    "                                         password=mysql_creds.password)\n",
    "        \n",
    "        mySql_insert_query = create_division_insert_statement(division)\n",
    "\n",
    "        cursor = connection.cursor()\n",
    "        cursor.execute(mySql_insert_query)\n",
    "        connection.commit()\n",
    "        print(\"{}, inserted successfully into division table\".format(division['name']))\n",
    "        cursor.close()\n",
    "\n",
    "    except mysql.connector.Error as error:\n",
    "        print(\"Failed to insert record into Laptop table {}\".format(error))\n",
    "\n",
    "    finally:\n",
    "        if connection.is_connected():\n",
    "            connection.close()\n",
    "#             print(\"MySQL connection is closed\")\n",
    "\n"
   ]
  },
  {
   "cell_type": "markdown",
   "metadata": {},
   "source": [
    "## First I'm going to get information related to the teams"
   ]
  },
  {
   "cell_type": "code",
   "execution_count": 11,
   "metadata": {},
   "outputs": [],
   "source": [
    "team_info =  requests.get(url='https://statsapi.web.nhl.com/api/v1/teams')\n",
    "team_info = team_info.json()"
   ]
  },
  {
   "cell_type": "markdown",
   "metadata": {},
   "source": [
    "### First, build the team table"
   ]
  },
  {
   "cell_type": "code",
   "execution_count": 12,
   "metadata": {},
   "outputs": [
    {
     "name": "stdout",
     "output_type": "stream",
     "text": [
      "Team Table created successfully \n",
      "MySQL connection is closed\n"
     ]
    }
   ],
   "source": [
    "try:\n",
    "    connection = mysql.connector.connect(host=mysql_creds.host,\n",
    "                                         database=mysql_creds.database,\n",
    "                                         user=mysql_creds.user,\n",
    "                                         password=mysql_creds.password)\n",
    "    \n",
    "    \n",
    "    mySql_Create_Table_Query = \"\"\"CREATE TABLE team(Id int NOT NULL,\\\n",
    "    fullName varchar(50) NOT NULL,\\\n",
    "    abbr varchar(5) NOT NULL,\\\n",
    "    teamName varchar(25) NOT NULL,\\\n",
    "    locationName varchar(25) NOT NULL,\\\n",
    "    division int NOT NULL,\\\n",
    "    conference int NOT NULL,\\\n",
    "    PRIMARY KEY (Id))\"\"\"\n",
    "    \n",
    "    \n",
    "    cursor = connection.cursor()\n",
    "    result = cursor.execute(mySql_Create_Table_Query)\n",
    "    print(\"Team Table created successfully \")\n",
    "\n",
    "except Error as e:\n",
    "    print(\"Error while connecting to MySQL\", e)\n",
    "finally:\n",
    "    if connection.is_connected():\n",
    "        cursor.close()\n",
    "        connection.close()\n",
    "        print(\"MySQL connection is closed\")"
   ]
  },
  {
   "cell_type": "code",
   "execution_count": 13,
   "metadata": {},
   "outputs": [
    {
     "name": "stdout",
     "output_type": "stream",
     "text": [
      "New Jersey Devils, inserted successfully into team table\n",
      "New York Islanders, inserted successfully into team table\n",
      "New York Rangers, inserted successfully into team table\n",
      "Philadelphia Flyers, inserted successfully into team table\n",
      "Pittsburgh Penguins, inserted successfully into team table\n",
      "Boston Bruins, inserted successfully into team table\n",
      "Buffalo Sabres, inserted successfully into team table\n",
      "Montréal Canadiens, inserted successfully into team table\n",
      "Ottawa Senators, inserted successfully into team table\n",
      "Toronto Maple Leafs, inserted successfully into team table\n",
      "Carolina Hurricanes, inserted successfully into team table\n",
      "Florida Panthers, inserted successfully into team table\n",
      "Tampa Bay Lightning, inserted successfully into team table\n",
      "Washington Capitals, inserted successfully into team table\n",
      "Chicago Blackhawks, inserted successfully into team table\n",
      "Detroit Red Wings, inserted successfully into team table\n",
      "Nashville Predators, inserted successfully into team table\n",
      "St. Louis Blues, inserted successfully into team table\n",
      "Calgary Flames, inserted successfully into team table\n",
      "Colorado Avalanche, inserted successfully into team table\n",
      "Edmonton Oilers, inserted successfully into team table\n",
      "Vancouver Canucks, inserted successfully into team table\n",
      "Anaheim Ducks, inserted successfully into team table\n",
      "Dallas Stars, inserted successfully into team table\n",
      "Los Angeles Kings, inserted successfully into team table\n",
      "San Jose Sharks, inserted successfully into team table\n",
      "Columbus Blue Jackets, inserted successfully into team table\n",
      "Minnesota Wild, inserted successfully into team table\n",
      "Winnipeg Jets, inserted successfully into team table\n",
      "Arizona Coyotes, inserted successfully into team table\n",
      "Vegas Golden Knights, inserted successfully into team table\n",
      "Seattle Kraken, inserted successfully into team table\n"
     ]
    }
   ],
   "source": [
    "def create_team_insert_statement(team_stats):\n",
    "    \n",
    "    team_id = team_stats['id']\n",
    "    team_fullname = team_stats['name']\n",
    "    team_abbr = team_stats['abbreviation']\n",
    "    team_teamName = team_stats['teamName']\n",
    "    team_locationName = team_stats['locationName']\n",
    "    team_division = team_stats['division']['id']\n",
    "    team_conference = team_stats['conference']['id']\n",
    "    \n",
    "    insert_statement = \"\"\"INSERT INTO team(Id, fullName, abbr, teamName, locationName, division, conference)\\\n",
    "    VALUES ({}, '{}', '{}', '{}', '{}', {}, {})\"\"\"\\\n",
    "    .format(team_id, team_fullname, team_abbr, team_teamName, team_locationName, team_division, team_conference)\n",
    "    \n",
    "    return insert_statement\n",
    "    \n",
    "for team in team_info['teams']:\n",
    "        \n",
    "    try:\n",
    "        connection = mysql.connector.connect(host=mysql_creds.host,\n",
    "                                         database=mysql_creds.database,\n",
    "                                         user=mysql_creds.user,\n",
    "                                         password=mysql_creds.password)\n",
    "\n",
    "        mySql_insert_query = create_team_insert_statement(team)\n",
    "\n",
    "        cursor = connection.cursor()\n",
    "        cursor.execute(mySql_insert_query)\n",
    "        connection.commit()\n",
    "        print(\"{}, inserted successfully into team table\".format(team['name']))\n",
    "        cursor.close()\n",
    "\n",
    "    except mysql.connector.Error as error:\n",
    "        print(\"Failed to insert record into Laptop table {}\".format(error))\n",
    "\n",
    "    finally:\n",
    "        if connection.is_connected():\n",
    "            connection.close()\n",
    "#             print(\"MySQL connection is closed\")\n",
    "\n"
   ]
  },
  {
   "cell_type": "code",
   "execution_count": null,
   "metadata": {},
   "outputs": [],
   "source": []
  },
  {
   "cell_type": "code",
   "execution_count": null,
   "metadata": {},
   "outputs": [],
   "source": []
  },
  {
   "cell_type": "code",
   "execution_count": null,
   "metadata": {},
   "outputs": [],
   "source": []
  },
  {
   "cell_type": "code",
   "execution_count": null,
   "metadata": {},
   "outputs": [],
   "source": []
  },
  {
   "cell_type": "markdown",
   "metadata": {},
   "source": [
    "### Game data"
   ]
  },
  {
   "cell_type": "code",
   "execution_count": 14,
   "metadata": {},
   "outputs": [],
   "source": [
    "# # Loop over the counter and format the API call\n",
    "# for i in range(1,6):\n",
    "#     r = requests.get(url='http://statsapi.web.nhl.com/api/v1/game/'\n",
    "#         + year + season_type +str(i).zfill(4)+'/feed/live')\n",
    "#     data = r.json()\n",
    "#     game_data.append(data)"
   ]
  },
  {
   "cell_type": "code",
   "execution_count": 15,
   "metadata": {},
   "outputs": [],
   "source": [
    "# game_data[0]"
   ]
  },
  {
   "cell_type": "code",
   "execution_count": null,
   "metadata": {},
   "outputs": [],
   "source": []
  },
  {
   "cell_type": "code",
   "execution_count": null,
   "metadata": {},
   "outputs": [],
   "source": []
  }
 ],
 "metadata": {
  "kernelspec": {
   "display_name": "Python 3",
   "language": "python",
   "name": "python3"
  },
  "language_info": {
   "codemirror_mode": {
    "name": "ipython",
    "version": 3
   },
   "file_extension": ".py",
   "mimetype": "text/x-python",
   "name": "python",
   "nbconvert_exporter": "python",
   "pygments_lexer": "ipython3",
   "version": "3.8.5"
  }
 },
 "nbformat": 4,
 "nbformat_minor": 4
}
