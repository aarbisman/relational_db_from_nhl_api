{
 "cells": [
  {
   "cell_type": "code",
   "execution_count": 1,
   "metadata": {},
   "outputs": [],
   "source": [
    "import requests\n",
    "import mysql.connector\n",
    "from mysql.connector import Error\n",
    "\n",
    "import mysql_creds"
   ]
  },
  {
   "cell_type": "code",
   "execution_count": 2,
   "metadata": {},
   "outputs": [
    {
     "data": {
      "text/plain": [
       "'localhost'"
      ]
     },
     "execution_count": 2,
     "metadata": {},
     "output_type": "execute_result"
    }
   ],
   "source": [
    "mysql_creds.host"
   ]
  },
  {
   "cell_type": "code",
   "execution_count": 38,
   "metadata": {},
   "outputs": [],
   "source": [
    "# Set up the API call variables\n",
    "sample_game_data = []\n",
    "year = '2021'\n",
    "season_type = '02' \n",
    "max_game_ID = 1290"
   ]
  },
  {
   "cell_type": "code",
   "execution_count": 39,
   "metadata": {},
   "outputs": [],
   "source": [
    "# Loop over the counter and format the API call\n",
    "for i in range(1,101):\n",
    "    r = requests.get(url='http://statsapi.web.nhl.com/api/v1/game/'\n",
    "        + year + season_type +str(i).zfill(4)+'/feed/live')\n",
    "    data = r.json()\n",
    "    sample_game_data.append(data)"
   ]
  },
  {
   "cell_type": "markdown",
   "metadata": {},
   "source": [
    "## Drop existing tables"
   ]
  },
  {
   "cell_type": "code",
   "execution_count": 4,
   "metadata": {},
   "outputs": [
    {
     "name": "stdout",
     "output_type": "stream",
     "text": [
      "existing tables dropped successfully \n"
     ]
    }
   ],
   "source": [
    "try:\n",
    "    connection = mysql.connector.connect(host=mysql_creds.host,\n",
    "                                         database=mysql_creds.database,\n",
    "                                         user=mysql_creds.user,\n",
    "                                         password=mysql_creds.password)\n",
    "    \n",
    "    \n",
    "    mySql_drop_Query = \"\"\"DROP TABLE IF EXISTS team ;\\\n",
    "    DROP TABLE IF EXISTS division;\\\n",
    "    DROP TABLE IF EXISTS conference;\n",
    "    DROP TABLE IF EXISTS game;\"\"\"\n",
    "    \n",
    "    \n",
    "    cursor = connection.cursor()\n",
    "    result = cursor.execute(mySql_drop_Query)\n",
    "    print(\"existing tables dropped successfully \")\n",
    "\n",
    "except Error as e:\n",
    "    print(\"Error while connecting to MySQL\", e)\n",
    "finally:\n",
    "    if connection.is_connected():\n",
    "        cursor.close()\n",
    "        connection.close()\n",
    "        print(\"MySQL connection is closed\")"
   ]
  },
  {
   "cell_type": "code",
   "execution_count": null,
   "metadata": {},
   "outputs": [],
   "source": []
  },
  {
   "cell_type": "markdown",
   "metadata": {},
   "source": [
    "### Conference and Division data"
   ]
  },
  {
   "cell_type": "markdown",
   "metadata": {},
   "source": [
    "#### Create the conference table and add all of the tables"
   ]
  },
  {
   "cell_type": "code",
   "execution_count": 5,
   "metadata": {},
   "outputs": [],
   "source": [
    "conf_info = requests.get(url='https://statsapi.web.nhl.com/api/v1/conferences')\n",
    "conf_info = conf_info.json()\n",
    "conf_info = conf_info['conferences']"
   ]
  },
  {
   "cell_type": "code",
   "execution_count": 6,
   "metadata": {},
   "outputs": [
    {
     "name": "stdout",
     "output_type": "stream",
     "text": [
      "conference table created successfully \n",
      "MySQL connection is closed\n"
     ]
    }
   ],
   "source": [
    "try:\n",
    "    connection = mysql.connector.connect(host=mysql_creds.host,\n",
    "                                         database=mysql_creds.database,\n",
    "                                         user=mysql_creds.user,\n",
    "                                         password=mysql_creds.password)\n",
    "    \n",
    "    \n",
    "    mySql_Create_Table_Query = \"\"\"CREATE TABLE conference(Id int NOT NULL,\\\n",
    "    name varchar(20) NOT NULL,\\\n",
    "    abbreviation varchar(5) NOT NULL,\\\n",
    "    nameShort varchar(10) NOT NULL,\\\n",
    "    PRIMARY KEY (Id))\"\"\"\n",
    "    \n",
    "    \n",
    "    cursor = connection.cursor()\n",
    "    result = cursor.execute(mySql_Create_Table_Query)\n",
    "    print(\"conference table created successfully \")\n",
    "\n",
    "except Error as e:\n",
    "    print(\"Error while connecting to MySQL\", e)\n",
    "finally:\n",
    "    if connection.is_connected():\n",
    "        cursor.close()\n",
    "        connection.close()\n",
    "        print(\"MySQL connection is closed\")"
   ]
  },
  {
   "cell_type": "code",
   "execution_count": 7,
   "metadata": {},
   "outputs": [
    {
     "name": "stdout",
     "output_type": "stream",
     "text": [
      "Eastern, inserted successfully into conference table\n",
      "Western, inserted successfully into conference table\n"
     ]
    }
   ],
   "source": [
    "def create_conference_insert_statement(conf_stats):\n",
    "    \n",
    "    conf_id = conf_stats['id']\n",
    "    conf_fullname = conf_stats['name']\n",
    "    conf_abbr = conf_stats['abbreviation']\n",
    "    conf_nameShort = conf_stats['shortName']\n",
    "    \n",
    "    insert_statement = \"\"\"INSERT INTO conference(Id, name, abbreviation, nameShort)\\\n",
    "    VALUES ({}, '{}', '{}',  '{}')\"\"\"\\\n",
    "    .format(conf_id, conf_fullname, conf_abbr, conf_nameShort)\n",
    "    \n",
    "    return insert_statement\n",
    "    \n",
    "for conference in conf_info:\n",
    "        \n",
    "    try:\n",
    "        connection = mysql.connector.connect(host=mysql_creds.host,\n",
    "                                         database=mysql_creds.database,\n",
    "                                         user=mysql_creds.user,\n",
    "                                         password=mysql_creds.password)\n",
    "        \n",
    "        mySql_insert_query = create_conference_insert_statement(conference)\n",
    "\n",
    "        cursor = connection.cursor()\n",
    "        cursor.execute(mySql_insert_query)\n",
    "        connection.commit()\n",
    "        print(\"{}, inserted successfully into conference table\".format(conference['name']))\n",
    "        cursor.close()\n",
    "\n",
    "    except mysql.connector.Error as error:\n",
    "        print(\"Failed to insert record into Laptop table {}\".format(error))\n",
    "\n",
    "    finally:\n",
    "        if connection.is_connected():\n",
    "            connection.close()\n",
    "#             print(\"MySQL connection is closed\")\n",
    "\n"
   ]
  },
  {
   "cell_type": "markdown",
   "metadata": {},
   "source": [
    "#### Division"
   ]
  },
  {
   "cell_type": "code",
   "execution_count": 8,
   "metadata": {},
   "outputs": [],
   "source": [
    "div_info = requests.get(url='https://statsapi.web.nhl.com/api/v1/divisions')\n",
    "div_info = div_info.json()\n",
    "div_info = div_info['divisions']"
   ]
  },
  {
   "cell_type": "code",
   "execution_count": 9,
   "metadata": {},
   "outputs": [
    {
     "name": "stdout",
     "output_type": "stream",
     "text": [
      "division Table created successfully \n",
      "MySQL connection is closed\n"
     ]
    }
   ],
   "source": [
    "try:\n",
    "    connection = mysql.connector.connect(host=mysql_creds.host,\n",
    "                                         database=mysql_creds.database,\n",
    "                                         user=mysql_creds.user,\n",
    "                                         password=mysql_creds.password)\n",
    "    \n",
    "    \n",
    "    mySql_Create_Table_Query = \"\"\"CREATE TABLE division(Id int NOT NULL,\\\n",
    "    name varchar(20) NOT NULL,\\\n",
    "    nameShort varchar(5) NOT NULL,\\\n",
    "    abbreviation varchar(5) NOT NULL,\\\n",
    "    conference int NOT NULL,\\\n",
    "    PRIMARY KEY (Id),\\\n",
    "    FOREIGN KEY (conference) REFERENCES conference(Id))\"\"\"\n",
    "    \n",
    "    \n",
    "    cursor = connection.cursor()\n",
    "    result = cursor.execute(mySql_Create_Table_Query)\n",
    "    print(\"division Table created successfully \")\n",
    "\n",
    "except Error as e:\n",
    "    print(\"Error while connecting to MySQL\", e)\n",
    "finally:\n",
    "    if connection.is_connected():\n",
    "        cursor.close()\n",
    "        connection.close()\n",
    "        print(\"MySQL connection is closed\")"
   ]
  },
  {
   "cell_type": "code",
   "execution_count": 10,
   "metadata": {},
   "outputs": [
    {
     "name": "stdout",
     "output_type": "stream",
     "text": [
      "Atlantic, inserted successfully into division table\n",
      "Central, inserted successfully into division table\n",
      "Metropolitan, inserted successfully into division table\n",
      "Pacific, inserted successfully into division table\n"
     ]
    }
   ],
   "source": [
    "def create_division_insert_statement(div_info):\n",
    "    \n",
    "    div_id = div_info['id']\n",
    "    div_fullname = div_info['name']\n",
    "    div_abbr = div_info['abbreviation']\n",
    "    div_nameShort = div_info['nameShort']\n",
    "    div_conf = div_info['conference']['id']\n",
    "    \n",
    "    insert_statement = \"\"\"INSERT INTO division(Id, name, abbreviation, nameShort, conference)\\\n",
    "    VALUES ({}, '{}', '{}',  '{}', {})\"\"\"\\\n",
    "    .format(div_id, div_fullname, div_abbr, div_nameShort, div_conf)\n",
    "    \n",
    "    return insert_statement\n",
    "    \n",
    "for division in div_info:\n",
    "        \n",
    "    try:\n",
    "        connection = mysql.connector.connect(host=mysql_creds.host,\n",
    "                                         database=mysql_creds.database,\n",
    "                                         user=mysql_creds.user,\n",
    "                                         password=mysql_creds.password)\n",
    "        \n",
    "        mySql_insert_query = create_division_insert_statement(division)\n",
    "\n",
    "        cursor = connection.cursor()\n",
    "        cursor.execute(mySql_insert_query)\n",
    "        connection.commit()\n",
    "        print(\"{}, inserted successfully into division table\".format(division['name']))\n",
    "        cursor.close()\n",
    "\n",
    "    except mysql.connector.Error as error:\n",
    "        print(\"Failed to insert record into Laptop table {}\".format(error))\n",
    "\n",
    "    finally:\n",
    "        if connection.is_connected():\n",
    "            connection.close()\n",
    "#             print(\"MySQL connection is closed\")\n",
    "\n"
   ]
  },
  {
   "cell_type": "markdown",
   "metadata": {},
   "source": [
    "## First I'm going to get information related to the teams"
   ]
  },
  {
   "cell_type": "code",
   "execution_count": 11,
   "metadata": {},
   "outputs": [],
   "source": [
    "team_info =  requests.get(url='https://statsapi.web.nhl.com/api/v1/teams')\n",
    "team_info = team_info.json()"
   ]
  },
  {
   "cell_type": "markdown",
   "metadata": {},
   "source": [
    "### First, build the team table"
   ]
  },
  {
   "cell_type": "code",
   "execution_count": 43,
   "metadata": {},
   "outputs": [
    {
     "name": "stdout",
     "output_type": "stream",
     "text": [
      "Team Table created successfully \n",
      "MySQL connection is closed\n"
     ]
    }
   ],
   "source": [
    "try:\n",
    "    connection = mysql.connector.connect(host=mysql_creds.host,\n",
    "                                         database=mysql_creds.database,\n",
    "                                         user=mysql_creds.user,\n",
    "                                         password=mysql_creds.password)\n",
    "    \n",
    "    \n",
    "    mySql_Create_Table_Query = \"\"\"CREATE TABLE team(Id int NOT NULL,\\\n",
    "    fullName varchar(50) NOT NULL,\\\n",
    "    abbr varchar(5) NOT NULL,\\\n",
    "    teamName varchar(25) NOT NULL,\\\n",
    "    locationName varchar(25) NOT NULL,\\\n",
    "    division int NOT NULL,\\\n",
    "    conference int NOT NULL,\\\n",
    "    PRIMARY KEY (Id))\"\"\"\n",
    "    \n",
    "    \n",
    "    cursor = connection.cursor()\n",
    "    result = cursor.execute(mySql_Create_Table_Query)\n",
    "    print(\"Team Table created successfully \")\n",
    "\n",
    "except Error as e:\n",
    "    print(\"Error while connecting to MySQL\", e)\n",
    "finally:\n",
    "    if connection.is_connected():\n",
    "        cursor.close()\n",
    "        connection.close()\n",
    "        print(\"MySQL connection is closed\")"
   ]
  },
  {
   "cell_type": "code",
   "execution_count": 44,
   "metadata": {},
   "outputs": [
    {
     "name": "stdout",
     "output_type": "stream",
     "text": [
      "New Jersey Devils, inserted successfully into team table\n",
      "New York Islanders, inserted successfully into team table\n",
      "New York Rangers, inserted successfully into team table\n",
      "Philadelphia Flyers, inserted successfully into team table\n",
      "Pittsburgh Penguins, inserted successfully into team table\n",
      "Boston Bruins, inserted successfully into team table\n",
      "Buffalo Sabres, inserted successfully into team table\n",
      "Montréal Canadiens, inserted successfully into team table\n",
      "Ottawa Senators, inserted successfully into team table\n",
      "Toronto Maple Leafs, inserted successfully into team table\n",
      "Carolina Hurricanes, inserted successfully into team table\n",
      "Florida Panthers, inserted successfully into team table\n",
      "Tampa Bay Lightning, inserted successfully into team table\n",
      "Washington Capitals, inserted successfully into team table\n",
      "Chicago Blackhawks, inserted successfully into team table\n",
      "Detroit Red Wings, inserted successfully into team table\n",
      "Nashville Predators, inserted successfully into team table\n",
      "St. Louis Blues, inserted successfully into team table\n",
      "Calgary Flames, inserted successfully into team table\n",
      "Colorado Avalanche, inserted successfully into team table\n",
      "Edmonton Oilers, inserted successfully into team table\n",
      "Vancouver Canucks, inserted successfully into team table\n",
      "Anaheim Ducks, inserted successfully into team table\n",
      "Dallas Stars, inserted successfully into team table\n",
      "Los Angeles Kings, inserted successfully into team table\n",
      "San Jose Sharks, inserted successfully into team table\n",
      "Columbus Blue Jackets, inserted successfully into team table\n",
      "Minnesota Wild, inserted successfully into team table\n",
      "Winnipeg Jets, inserted successfully into team table\n",
      "Arizona Coyotes, inserted successfully into team table\n",
      "Vegas Golden Knights, inserted successfully into team table\n",
      "Seattle Kraken, inserted successfully into team table\n"
     ]
    }
   ],
   "source": [
    "def create_team_insert_statement(team_stats):\n",
    "    \n",
    "    team_id = team_stats['id']\n",
    "    team_fullname = team_stats['name']\n",
    "    team_abbr = team_stats['abbreviation']\n",
    "    team_teamName = team_stats['teamName']\n",
    "    team_locationName = team_stats['locationName']\n",
    "    team_division = team_stats['division']['id']\n",
    "    team_conference = team_stats['conference']['id']\n",
    "    \n",
    "    insert_statement = \"\"\"INSERT INTO team(Id, fullName, abbr, teamName, locationName, division, conference)\\\n",
    "    VALUES ({}, '{}', '{}', '{}', '{}', {}, {})\"\"\"\\\n",
    "    .format(team_id, team_fullname, team_abbr, team_teamName, team_locationName, team_division, team_conference)\n",
    "    \n",
    "    return insert_statement\n",
    "    \n",
    "for team in team_info['teams']:\n",
    "        \n",
    "    try:\n",
    "        connection = mysql.connector.connect(host=mysql_creds.host,\n",
    "                                         database=mysql_creds.database,\n",
    "                                         user=mysql_creds.user,\n",
    "                                         password=mysql_creds.password)\n",
    "\n",
    "        mySql_insert_query = create_team_insert_statement(team)\n",
    "\n",
    "        cursor = connection.cursor()\n",
    "        cursor.execute(mySql_insert_query)\n",
    "        connection.commit()\n",
    "        print(\"{}, inserted successfully into team table\".format(team['name']))\n",
    "        cursor.close()\n",
    "\n",
    "    except mysql.connector.Error as error:\n",
    "        print(\"Failed to insert record into Laptop table {}\".format(error))\n",
    "\n",
    "    finally:\n",
    "        if connection.is_connected():\n",
    "            connection.close()\n",
    "#             print(\"MySQL connection is closed\")\n",
    "\n"
   ]
  },
  {
   "cell_type": "markdown",
   "metadata": {},
   "source": [
    "## Game Table"
   ]
  },
  {
   "cell_type": "code",
   "execution_count": 45,
   "metadata": {},
   "outputs": [
    {
     "name": "stdout",
     "output_type": "stream",
     "text": [
      "Team game created successfully \n",
      "MySQL connection is closed\n"
     ]
    }
   ],
   "source": [
    "try:\n",
    "    connection = mysql.connector.connect(host=mysql_creds.host,\n",
    "                                         database=mysql_creds.database,\n",
    "                                         user=mysql_creds.user,\n",
    "                                         password=mysql_creds.password)\n",
    "    \n",
    "    \n",
    "    mySql_Create_Table_Query = \"\"\"CREATE TABLE game(Id int NOT NULL,\\\n",
    "    season varchar(10) NOT NULL,\\\n",
    "    type varchar(5) NOT NULL,\\\n",
    "    startDateTime datetime NOT NULL,\\\n",
    "    endDateTime datetime NOT NULL,\\\n",
    "    awayTeam int NOT NULL,\\\n",
    "    homeTeam int NOT NULL,\\\n",
    "    PRIMARY KEY (Id))\"\"\"\n",
    "    \n",
    "    \n",
    "    cursor = connection.cursor()\n",
    "    result = cursor.execute(mySql_Create_Table_Query)\n",
    "    print(\"Team game created successfully \")\n",
    "\n",
    "except Error as e:\n",
    "    print(\"Error while connecting to MySQL\", e)\n",
    "finally:\n",
    "    if connection.is_connected():\n",
    "        cursor.close()\n",
    "        connection.close()\n",
    "        print(\"MySQL connection is closed\")"
   ]
  },
  {
   "cell_type": "code",
   "execution_count": 58,
   "metadata": {},
   "outputs": [
    {
     "name": "stdout",
     "output_type": "stream",
     "text": [
      "2021020001, inserted successfully into game table\n",
      "2021020002, inserted successfully into game table\n",
      "2021020003, inserted successfully into game table\n",
      "2021020004, inserted successfully into game table\n",
      "2021020005, inserted successfully into game table\n",
      "2021020006, inserted successfully into game table\n",
      "2021020007, inserted successfully into game table\n",
      "2021020008, inserted successfully into game table\n",
      "2021020009, inserted successfully into game table\n",
      "2021020010, inserted successfully into game table\n",
      "2021020011, inserted successfully into game table\n",
      "2021020012, inserted successfully into game table\n",
      "2021020013, inserted successfully into game table\n",
      "2021020014, inserted successfully into game table\n",
      "2021020015, inserted successfully into game table\n",
      "2021020016, inserted successfully into game table\n",
      "2021020017, inserted successfully into game table\n",
      "2021020018, inserted successfully into game table\n",
      "2021020019, inserted successfully into game table\n",
      "2021020020, inserted successfully into game table\n",
      "2021020021, inserted successfully into game table\n",
      "2021020022, inserted successfully into game table\n",
      "2021020023, inserted successfully into game table\n",
      "2021020024, inserted successfully into game table\n",
      "2021020025, inserted successfully into game table\n",
      "2021020026, inserted successfully into game table\n",
      "2021020027, inserted successfully into game table\n",
      "2021020028, inserted successfully into game table\n",
      "2021020029, inserted successfully into game table\n",
      "2021020030, inserted successfully into game table\n",
      "2021020031, inserted successfully into game table\n",
      "2021020032, inserted successfully into game table\n",
      "2021020033, inserted successfully into game table\n",
      "2021020034, inserted successfully into game table\n",
      "2021020035, inserted successfully into game table\n",
      "2021020036, inserted successfully into game table\n",
      "2021020037, inserted successfully into game table\n",
      "2021020038, inserted successfully into game table\n",
      "2021020039, inserted successfully into game table\n",
      "2021020040, inserted successfully into game table\n",
      "2021020041, inserted successfully into game table\n",
      "2021020042, inserted successfully into game table\n",
      "2021020043, inserted successfully into game table\n",
      "2021020044, inserted successfully into game table\n",
      "2021020045, inserted successfully into game table\n",
      "2021020046, inserted successfully into game table\n",
      "2021020047, inserted successfully into game table\n",
      "2021020048, inserted successfully into game table\n",
      "2021020049, inserted successfully into game table\n",
      "2021020050, inserted successfully into game table\n",
      "2021020051, inserted successfully into game table\n",
      "2021020052, inserted successfully into game table\n",
      "2021020053, inserted successfully into game table\n",
      "2021020054, inserted successfully into game table\n",
      "2021020055, inserted successfully into game table\n",
      "2021020056, inserted successfully into game table\n",
      "2021020057, inserted successfully into game table\n",
      "2021020058, inserted successfully into game table\n",
      "2021020059, inserted successfully into game table\n",
      "2021020060, inserted successfully into game table\n",
      "2021020061, inserted successfully into game table\n",
      "2021020062, inserted successfully into game table\n",
      "2021020063, inserted successfully into game table\n",
      "2021020064, inserted successfully into game table\n",
      "2021020065, inserted successfully into game table\n",
      "2021020066, inserted successfully into game table\n",
      "2021020067, inserted successfully into game table\n",
      "2021020068, inserted successfully into game table\n",
      "2021020069, inserted successfully into game table\n",
      "2021020070, inserted successfully into game table\n",
      "2021020071, inserted successfully into game table\n",
      "2021020072, inserted successfully into game table\n",
      "2021020073, inserted successfully into game table\n",
      "2021020074, inserted successfully into game table\n",
      "2021020075, inserted successfully into game table\n",
      "2021020076, inserted successfully into game table\n",
      "2021020077, inserted successfully into game table\n",
      "2021020078, inserted successfully into game table\n",
      "2021020079, inserted successfully into game table\n",
      "2021020080, inserted successfully into game table\n",
      "2021020081, inserted successfully into game table\n",
      "2021020082, inserted successfully into game table\n",
      "2021020083, inserted successfully into game table\n",
      "2021020084, inserted successfully into game table\n",
      "2021020085, inserted successfully into game table\n",
      "2021020086, inserted successfully into game table\n",
      "2021020087, inserted successfully into game table\n",
      "2021020088, inserted successfully into game table\n",
      "2021020089, inserted successfully into game table\n",
      "2021020090, inserted successfully into game table\n",
      "2021020091, inserted successfully into game table\n",
      "2021020092, inserted successfully into game table\n",
      "2021020093, inserted successfully into game table\n",
      "2021020094, inserted successfully into game table\n",
      "2021020095, inserted successfully into game table\n",
      "2021020096, inserted successfully into game table\n",
      "2021020097, inserted successfully into game table\n",
      "2021020098, inserted successfully into game table\n",
      "2021020099, inserted successfully into game table\n",
      "2021020100, inserted successfully into game table\n"
     ]
    }
   ],
   "source": [
    "def create_game_insert_statement(game_info):\n",
    "    game_id = game_info['gameData']['game']['pk']\n",
    "    game_season = game_info['gameData']['game']['season']\n",
    "    game_type = game_info['gameData']['game']['type']\n",
    "    game_startDateTime = pd.to_datetime(game_data[0]['gameData']['datetime']['dateTime']).strftime('%Y-%m-%d %H:%M:%S')\n",
    "    game_endDateTime = pd.to_datetime(game_data[0]['gameData']['datetime']['endDateTime']).strftime('%Y-%m-%d %H:%M:%S')\n",
    "    away_team = game_info['gameData']['teams']['away']['id']\n",
    "    home_team = game_info['gameData']['teams']['home']['id']\n",
    "    \n",
    "    insert_statement = \"\"\"INSERT INTO game(Id, season, type, startDateTime, endDateTime, awayTeam, homeTeam)\\\n",
    "    VALUES ({}, '{}', '{}', '{}', '{}', {}, {})\"\"\"\\\n",
    "    .format(game_id, game_season, game_type, game_startDateTime, game_endDateTime, away_team, home_team)\n",
    "    \n",
    "    return insert_statement\n",
    "    \n",
    "for game in sample_game_data:\n",
    "        \n",
    "    try:\n",
    "        connection = mysql.connector.connect(host=mysql_creds.host,\n",
    "                                         database=mysql_creds.database,\n",
    "                                         user=mysql_creds.user,\n",
    "                                         password=mysql_creds.password)\n",
    "\n",
    "        mySql_insert_query = create_game_insert_statement(game)\n",
    "\n",
    "        cursor = connection.cursor()\n",
    "        cursor.execute(mySql_insert_query)\n",
    "        connection.commit()\n",
    "        print(\"{}, inserted successfully into game table\".format(game['gameData']['game']['pk']))\n",
    "        cursor.close()\n",
    "\n",
    "    except mysql.connector.Error as error:\n",
    "        print(\"Failed to insert record into table {}\".format(error))\n",
    "\n",
    "    finally:\n",
    "        if connection.is_connected():\n",
    "            connection.close()\n",
    "#             print(\"MySQL connection is closed\")\n",
    "\n"
   ]
  },
  {
   "cell_type": "markdown",
   "metadata": {},
   "source": [
    "## Player Table"
   ]
  },
  {
   "cell_type": "code",
   "execution_count": 359,
   "metadata": {},
   "outputs": [
    {
     "name": "stdout",
     "output_type": "stream",
     "text": [
      "Team player created successfully \n",
      "MySQL connection is closed\n"
     ]
    }
   ],
   "source": [
    "try:\n",
    "    connection = mysql.connector.connect(host=mysql_creds.host,\n",
    "                                         database=mysql_creds.database,\n",
    "                                         user=mysql_creds.user,\n",
    "                                         password=mysql_creds.password)\n",
    "    \n",
    "    \n",
    "    mySql_Create_Table_Query = \"\"\"CREATE TABLE player(ID int NOT NULL,\\\n",
    "    fullName varchar(50) NOT NULL,\\\n",
    "    firstName varchar(25) NOT NULL,\\\n",
    "    lastName varchar(25) NOT NULL,\\\n",
    "    primaryNumner int ,\\\n",
    "    birthDate varchar(15) NOT NULL,\\\n",
    "    birthCity varchar(45) NOT NULL,\\\n",
    "    birthState varchar(25),\\\n",
    "    birthCountry varchar(25) NOT NULL,\\\n",
    "    height int NOT NULL,\\\n",
    "    weight int NOT NULL,\\\n",
    "    active varchar(5) NOT NULL,\\\n",
    "    alternateCaptain varchar(5) ,\\\n",
    "    captain varchar(5),\\\n",
    "    shootsCatches varchar(5) NOT NULL,\\\n",
    "    position varchar(25) NOT NULL,\\\n",
    "    PRIMARY KEY (Id))\"\"\"\n",
    "    \n",
    "    \n",
    "    cursor = connection.cursor()\n",
    "    result = cursor.execute(mySql_Create_Table_Query)\n",
    "    print(\"Team player created successfully \")\n",
    "\n",
    "except Error as e:\n",
    "    print(\"Error while connecting to MySQL\", e)\n",
    "finally:\n",
    "    if connection.is_connected():\n",
    "        cursor.close()\n",
    "        connection.close()\n",
    "        print(\"MySQL connection is closed\")"
   ]
  },
  {
   "cell_type": "code",
   "execution_count": 361,
   "metadata": {},
   "outputs": [],
   "source": [
    "def get_numeric_height(height):\n",
    "    \n",
    "    height_clean = height.strip(\"'\").strip('\"').split(\"' \")\n",
    "    \n",
    "    total_inches = (int(height_clean[0]) * 12) + int(height_clean[1])\n",
    "    \n",
    "    return total_inches\n",
    "\n",
    "def get_player_info(player_id):\n",
    "    \n",
    "    player_id = str(player_id)\n",
    "    \n",
    "    ## use the player info to get the json file\n",
    "    api_url = 'https://statsapi.web.nhl.com/api/v1/people/' + player_id\n",
    "    player_data = requests.get(url = api_url)\n",
    "    player_data = player_data.json()\n",
    "    player_data = player_data['people'][0]\n",
    "    \n",
    "    ## get the specific stats we want\n",
    "    playerId = player_data['id']\n",
    "    fullName = player_data['fullName']\n",
    "    firstName =  player_data['firstName']\n",
    "    lastName =  player_data['lastName']\n",
    "    birthDate =  player_data['birthDate']\n",
    "    birthCity =  player_data['birthCity']\n",
    "    birthCountry =  player_data['birthCountry']\n",
    "    height =  get_numeric_height(player_data['height'])\n",
    "    weight =  player_data['weight']\n",
    "    active =  player_data['active']\n",
    "    shootsCatches = player_data['shootsCatches']\n",
    "    position = player_data['primaryPosition']['name']\n",
    "    \n",
    "    \n",
    "    ## the conditional items (older values don't have this):\n",
    "    \n",
    "    \n",
    "    if 'primaryNumber' in player_data:\n",
    "        primaryNumner= player_data['primaryNumber']\n",
    "    else:\n",
    "        primaryNumner = 'NULL'\n",
    "    \n",
    "    \n",
    "    if 'birthStateProvince' in player_data:\n",
    "        birthState= player_data['birthStateProvince']\n",
    "    else:\n",
    "        birthState = 'NULL'\n",
    "\n",
    "        \n",
    "    if 'alternateCaptain' in player_data:\n",
    "        alternateCaptain= player_data['alternateCaptain']\n",
    "    else:\n",
    "        alternateCaptain = 'NULL'\n",
    "     \n",
    "    \n",
    "    if 'captain' in player_data:\n",
    "        captain= player_data['captain']\n",
    "    else:\n",
    "        captain = 'NULL'\n",
    "    \n",
    "    \n",
    "    insert_statement = \"\"\"REPLACE INTO player(Id, fullName, firstName, lastName, primaryNumner, birthDate, birthCity,\\\n",
    "    birthState, birthCountry, height, weight, active, alternateCaptain, captain, shootsCatches, position)\\\n",
    "    VALUES ({}, \"{}\", \"{}\", \"{}\", {}, '{}', \"{}\", '{}', '{}', {}, {}, '{}', '{}', '{}', '{}', '{}');\"\"\"\\\n",
    "    .format(playerId, fullName, firstName, lastName, primaryNumner, birthDate, birthCity,\n",
    "            birthState, birthCountry, height, weight, active, alternateCaptain, captain, shootsCatches, position)\n",
    "   \n",
    "    return insert_statement"
   ]
  },
  {
   "cell_type": "code",
   "execution_count": null,
   "metadata": {},
   "outputs": [],
   "source": []
  },
  {
   "cell_type": "code",
   "execution_count": 362,
   "metadata": {},
   "outputs": [
    {
     "name": "stdout",
     "output_type": "stream",
     "text": [
      "20052006 complete\n",
      "20062007 complete\n",
      "20072008 complete\n",
      "20082009 complete\n",
      "20092010 complete\n",
      "20102011 complete\n",
      "20112012 complete\n",
      "20122013 complete\n",
      "20132014 complete\n",
      "20142015 complete\n",
      "20152016 complete\n",
      "20162017 complete\n",
      "20172018 complete\n",
      "20182019 complete\n",
      "20192020 complete\n",
      "20202021 complete\n",
      "20212022 complete\n"
     ]
    }
   ],
   "source": [
    "seasons = ['20052006', '20062007','20072008','20082009','20092010','20102011','20112012','20122013','20132014',\n",
    "           '20142015','20152016','20162017','20172018','20182019','20192020','20202021','20212022']\n",
    "\n",
    "def get_players_from_roster(roster_obj):\n",
    "    \n",
    "    ## get our roster object\n",
    "    roster = roster_obj['teams'][0]['roster']['roster']\n",
    "    \n",
    "    ## Return a list of player ID's on that roster\n",
    "    player_ids = []\n",
    "    for player in roster:\n",
    "        \n",
    "        player_id = player['person']['id']\n",
    "        player_ids.append(player_id)\n",
    "        \n",
    "    return player_id\n",
    "\n",
    "## for every season, for every team, if the team existed at the time\n",
    "for season in seasons:\n",
    "    for team in range(1,33):\n",
    "        \n",
    "        \n",
    "        ## try to get the team roster\n",
    "        url = 'https://statsapi.web.nhl.com/api/v1/teams/' + str(team) + '?expand=team.roster&season=' + season\n",
    "        team_roster_obj = requests.get(url = url)\n",
    "        team_roster_obj = team_roster_obj.json()\n",
    "        \n",
    "        ## If this team roster exists\n",
    "        if 'message' not in team_roster_obj:\n",
    "            \n",
    "            ## Get a list of player IDs from the roster object\n",
    "            players = get_players_from_roster(team_roster_obj)\n",
    "            \n",
    "            for player in players:\n",
    "            \n",
    "                try:\n",
    "                    connection = mysql.connector.connect(host=mysql_creds.host,\n",
    "                                         database=mysql_creds.database,\n",
    "                                         user=mysql_creds.user,\n",
    "                                         password=mysql_creds.password)\n",
    "\n",
    "                    mySql_insert_query = get_player_info(player)\n",
    "\n",
    "                    cursor = connection.cursor()\n",
    "                    cursor.execute(mySql_insert_query)\n",
    "                    connection.commit()\n",
    "                    cursor.close()\n",
    "\n",
    "                except mysql.connector.Error as error:\n",
    "                    print(\"Failed to insert record into table {}\".format(error))\n",
    "\n",
    "                finally:\n",
    "                    if connection.is_connected():\n",
    "                        connection.close()\n",
    "                        \n",
    "                                   \n",
    "            \n",
    "            \n",
    "        \n",
    "    print(season, 'complete')\n",
    "            \n",
    "        "
   ]
  },
  {
   "cell_type": "code",
   "execution_count": null,
   "metadata": {},
   "outputs": [],
   "source": []
  },
  {
   "cell_type": "code",
   "execution_count": null,
   "metadata": {},
   "outputs": [],
   "source": []
  },
  {
   "cell_type": "code",
   "execution_count": 338,
   "metadata": {},
   "outputs": [
    {
     "data": {
      "text/plain": [
       "['6', '0']"
      ]
     },
     "execution_count": 338,
     "metadata": {},
     "output_type": "execute_result"
    }
   ],
   "source": [
    "api_url = 'https://statsapi.web.nhl.com/api/v1/people/8479525'\n",
    "player_data = requests.get(url = api_url)\n",
    "player_data = player_data.json()\n",
    "\n",
    "player_data['people'][0]['height'].strip(\"'\").strip('\"').split(\"' \")"
   ]
  },
  {
   "cell_type": "code",
   "execution_count": 335,
   "metadata": {},
   "outputs": [
    {
     "data": {
      "text/plain": [
       "[\"6'\", '0\"']"
      ]
     },
     "execution_count": 335,
     "metadata": {},
     "output_type": "execute_result"
    }
   ],
   "source": [
    "s = player_data['people'][0]['height']\n",
    "s.split(' ' )"
   ]
  },
  {
   "cell_type": "code",
   "execution_count": 341,
   "metadata": {},
   "outputs": [
    {
     "data": {
      "text/plain": [
       "72"
      ]
     },
     "execution_count": 341,
     "metadata": {},
     "output_type": "execute_result"
    }
   ],
   "source": []
  },
  {
   "cell_type": "markdown",
   "metadata": {},
   "source": [
    "### Game data"
   ]
  },
  {
   "cell_type": "code",
   "execution_count": 16,
   "metadata": {},
   "outputs": [],
   "source": [
    "# Loop over the counter and format the API call\n",
    "for i in range(1,6):\n",
    "    r = requests.get(url='http://statsapi.web.nhl.com/api/v1/game/'\n",
    "        + year + season_type +str(i).zfill(4)+'/feed/live')\n",
    "    data = r.json()\n",
    "    game_data.append(data)"
   ]
  },
  {
   "cell_type": "code",
   "execution_count": 90,
   "metadata": {},
   "outputs": [
    {
     "data": {
      "text/plain": [
       "dict_keys(['players', 'result', 'about', 'coordinates', 'team'])"
      ]
     },
     "execution_count": 90,
     "metadata": {},
     "output_type": "execute_result"
    }
   ],
   "source": [
    "game_data[0]['liveData']['plays']['allPlays'][7].keys()"
   ]
  },
  {
   "cell_type": "code",
   "execution_count": 129,
   "metadata": {},
   "outputs": [
    {
     "data": {
      "text/plain": [
       "{'players': [{'player': {'id': 8479525,\n",
       "    'fullName': 'Ross Colton',\n",
       "    'link': '/api/v1/people/8479525'},\n",
       "   'playerType': 'Hitter'},\n",
       "  {'player': {'id': 8478542,\n",
       "    'fullName': 'Evan Rodrigues',\n",
       "    'link': '/api/v1/people/8478542'},\n",
       "   'playerType': 'Hittee'}],\n",
       " 'result': {'event': 'Hit',\n",
       "  'eventCode': 'TBL29',\n",
       "  'eventTypeId': 'HIT',\n",
       "  'description': 'Ross Colton hit Evan Rodrigues'},\n",
       " 'about': {'eventIdx': 49,\n",
       "  'eventId': 29,\n",
       "  'period': 1,\n",
       "  'periodType': 'REGULAR',\n",
       "  'ordinalNum': '1st',\n",
       "  'periodTime': '06:29',\n",
       "  'periodTimeRemaining': '13:31',\n",
       "  'dateTime': '2021-10-12T23:57:37Z',\n",
       "  'goals': {'away': 0, 'home': 0}},\n",
       " 'coordinates': {'x': -31.0, 'y': -40.0},\n",
       " 'team': {'id': 14,\n",
       "  'name': 'Tampa Bay Lightning',\n",
       "  'link': '/api/v1/teams/14',\n",
       "  'triCode': 'TBL'}}"
      ]
     },
     "execution_count": 129,
     "metadata": {},
     "output_type": "execute_result"
    }
   ],
   "source": [
    "game_data[0]['liveData']['plays']['allPlays'][49]"
   ]
  },
  {
   "cell_type": "code",
   "execution_count": 125,
   "metadata": {},
   "outputs": [],
   "source": [
    "event_type_dict = dict()\n",
    "\n",
    "for event in game_data[0]['liveData']['plays']['allPlays']:\n",
    "        \n",
    "    if event['result']['event'] not in event_type_dict:\n",
    "        event_type_dict[event['result']['event']] = 1\n",
    "        \n",
    "        \n",
    "    if event['result']['event'] in event_type_dict:\n",
    "        event_type_dict[event['result']['event']] += 1\n"
   ]
  },
  {
   "cell_type": "code",
   "execution_count": 126,
   "metadata": {},
   "outputs": [
    {
     "data": {
      "text/plain": [
       "{'Game Scheduled': 2,\n",
       " 'Period Ready': 4,\n",
       " 'Period Start': 4,\n",
       " 'Faceoff': 70,\n",
       " 'Hit': 60,\n",
       " 'Stoppage': 57,\n",
       " 'Shot': 56,\n",
       " 'Takeaway': 9,\n",
       " 'Blocked Shot': 27,\n",
       " 'Missed Shot': 25,\n",
       " 'Giveaway': 8,\n",
       " 'Period End': 4,\n",
       " 'Period Official': 4,\n",
       " 'Goal': 9,\n",
       " 'Penalty': 3,\n",
       " 'Game End': 2,\n",
       " 'Game Official': 2}"
      ]
     },
     "execution_count": 126,
     "metadata": {},
     "output_type": "execute_result"
    }
   ],
   "source": [
    "event_type_dict"
   ]
  }
 ],
 "metadata": {
  "kernelspec": {
   "display_name": "Python 3",
   "language": "python",
   "name": "python3"
  },
  "language_info": {
   "codemirror_mode": {
    "name": "ipython",
    "version": 3
   },
   "file_extension": ".py",
   "mimetype": "text/x-python",
   "name": "python",
   "nbconvert_exporter": "python",
   "pygments_lexer": "ipython3",
   "version": "3.8.5"
  }
 },
 "nbformat": 4,
 "nbformat_minor": 4
}
